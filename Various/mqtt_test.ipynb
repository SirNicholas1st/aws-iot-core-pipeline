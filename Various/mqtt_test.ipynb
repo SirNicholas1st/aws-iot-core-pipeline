{
 "cells": [
  {
   "cell_type": "code",
   "execution_count": null,
   "metadata": {},
   "outputs": [],
   "source": [
    "import sys\n",
    "import time\n",
    "import json\n",
    "from awsiot import mqtt_connection_builder\n",
    "from awscrt import io, mqtt, auth, http"
   ]
  },
  {
   "cell_type": "code",
   "execution_count": null,
   "metadata": {},
   "outputs": [],
   "source": [
    "ENDPOINT = \"endpoint from iot core settings\"\n",
    "CLIENT_ID = \"the thing name\"\n",
    "PATH_TO_CERTIFICATE = \"\"\n",
    "PATH_TO_PRIVATE_KEY = \"\"\n",
    "PATH_TO_AMAZON_ROOT_CA_1 = \"\"\n",
    "TOPIC = \"topic/defined/in/iam/policy\""
   ]
  },
  {
   "cell_type": "code",
   "execution_count": null,
   "metadata": {},
   "outputs": [],
   "source": [
    "mqtt_connection = mqtt_connection_builder.mtls_from_path(\n",
    "    endpoint=ENDPOINT,\n",
    "    port=8883,\n",
    "    cert_filepath=PATH_TO_CERTIFICATE,\n",
    "    pri_key_filepath=PATH_TO_PRIVATE_KEY,\n",
    "    ca_filepath=PATH_TO_AMAZON_ROOT_CA_1,\n",
    "    client_id=CLIENT_ID,\n",
    "    clean_session=False,\n",
    "    keep_alive_secs=6\n",
    ")\n",
    "\n",
    "print(f\"Connecting to {ENDPOINT} with client ID '{CLIENT_ID}'...\")\n",
    "connect_future = mqtt_connection.connect()\n",
    "connect_future.result()\n",
    "print(\"Connected!\")\n",
    "\n",
    "# Publish a message\n",
    "message = {\"message\": \"Hello, world!\"}\n",
    "print(f\"Publishing message to topic '{TOPIC}': {json.dumps(message)}\")\n",
    "mqtt_connection.publish(\n",
    "    topic=TOPIC,\n",
    "    payload=json.dumps(message),\n",
    "    qos=mqtt.QoS.AT_LEAST_ONCE\n",
    ")\n",
    "print(\"Message published!\")\n",
    "\n",
    "time.sleep(5)\n",
    "\n",
    "# Disconnect\n",
    "print(\"Disconnecting...\")\n",
    "disconnect_future = mqtt_connection.disconnect()\n",
    "disconnect_future.result()\n",
    "print(\"Disconnected!\")"
   ]
  }
 ],
 "metadata": {
  "kernelspec": {
   "display_name": "base",
   "language": "python",
   "name": "python3"
  },
  "language_info": {
   "codemirror_mode": {
    "name": "ipython",
    "version": 3
   },
   "file_extension": ".py",
   "mimetype": "text/x-python",
   "name": "python",
   "nbconvert_exporter": "python",
   "pygments_lexer": "ipython3",
   "version": "3.9.12"
  }
 },
 "nbformat": 4,
 "nbformat_minor": 2
}
